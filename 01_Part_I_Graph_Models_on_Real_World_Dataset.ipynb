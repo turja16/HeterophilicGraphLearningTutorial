{
  "cells": [
    {
      "cell_type": "markdown",
      "metadata": {
        "id": "view-in-github",
        "colab_type": "text"
      },
      "source": [
        "<a href=\"https://colab.research.google.com/github/jzhu1905/HeterophilicGraphLearningTutorial/blob/main/01_Part_I_Graph_Models_on_Real_World_Dataset.ipynb\" target=\"_parent\"><img src=\"https://colab.research.google.com/assets/colab-badge.svg\" alt=\"Open In Colab\"/></a>"
      ]
    },
    {
      "cell_type": "markdown",
      "source": [
        "# Heterophily Benchmark Tutorial: Part I - Graph Models on Real-World Dataset\n",
        "\n",
        "Sitao Luan, MILA \\\\\n",
        "Chenqing Hua, McGill University & MILA \\\\\n",
        "QiCheng Lu, McGill University & MILA \\\\\n",
        "Jiaqi Zhu, DRW\n",
        "\n",
        "\n",
        "##### ***LOG2024: A Tutorial on Heterophilic Graph Learning***"
      ],
      "metadata": {
        "id": "sZc9bsm8WB8A"
      },
      "id": "sZc9bsm8WB8A"
    },
    {
      "cell_type": "markdown",
      "source": [
        "# Environment Setup\n"
      ],
      "metadata": {
        "id": "J_LxW9ktWA-N"
      },
      "id": "J_LxW9ktWA-N"
    },
    {
      "cell_type": "code",
      "execution_count": 1,
      "id": "8cbb9ad8-5753-4b31-9a24-282fa9ec549a",
      "metadata": {
        "id": "8cbb9ad8-5753-4b31-9a24-282fa9ec549a"
      },
      "outputs": [],
      "source": [
        "COLLAB_ENV = True"
      ]
    },
    {
      "cell_type": "code",
      "source": [
        "import os\n",
        "import shutil\n",
        "\n",
        "import ipywidgets as widgets\n",
        "from ipywidgets import Box"
      ],
      "metadata": {
        "id": "a3_qZjfTleJ2"
      },
      "id": "a3_qZjfTleJ2",
      "execution_count": 2,
      "outputs": []
    },
    {
      "cell_type": "code",
      "execution_count": null,
      "id": "b262ed5a-1859-4f73-aa1a-a132aa00b2d8",
      "metadata": {
        "id": "b262ed5a-1859-4f73-aa1a-a132aa00b2d8",
        "collapsed": true
      },
      "outputs": [],
      "source": [
        "if COLLAB_ENV:\n",
        "    !git clone --recurse-submodules -j8 https://github.com/jzhu1905/HeterophilicGraphLearningTutorial.git\n",
        "    !cd HeterophilicGraphLearningTutorial\n",
        "    !git init\n",
        "    !git submodule update --init --recursive\n",
        "    shutil.copytree(\"HeterophilicGraphLearningTutorial/\", \"./\", dirs_exist_ok=True)\n",
        "    !rm -rf HeterophilicGraphLearning-Tutorial\n",
        "\n",
        "    !pip install torch==2.2.2\n",
        "    !pip install torchaudio==2.2.2 torchdata==0.7.1 torchvision==0.17.2\n",
        "    !pip install dgl -f https://data.dgl.ai/wheels/torch-2.2/cu121/repo.html\n",
        "    import torch\n",
        "    os.environ['TORCH'] = torch.__version__\n",
        "    print(torch.__version__)\n",
        "    !pip install torch-scatter -f https://data.pyg.org/whl/torch-{torch.__version__}.html\n",
        "    !pip install torch-sparse -f https://data.pyg.org/whl/torch-{torch.__version__}.html\n",
        "    !pip install torch-cluster -f https://data.pyg.org/whl/torch-{torch.__version__}.html\n",
        "    !pip install git+https://github.com/pyg-team/pytorch_geometric.git\n",
        "    !pip install torch-geometric===2.1.0.post1\n",
        "    !pip install networkx==2.5\n",
        "    !pip install ogb"
      ]
    },
    {
      "cell_type": "code",
      "source": [
        "import sys\n",
        "sys.path.append(\"./Heterophilic_Benchmarks\")\n",
        "\n",
        "from constants import GRAPH_MODELS, DATASETS\n",
        "from train_graph_model import train_graph_model\n",
        "\n",
        "IS_GPU_AVAILABLE = torch.cuda.is_available()"
      ],
      "metadata": {
        "id": "Df6EwUDK3otb"
      },
      "id": "Df6EwUDK3otb",
      "execution_count": null,
      "outputs": []
    },
    {
      "cell_type": "markdown",
      "source": [
        "# Trianing Graph Models with Real World Dataset"
      ],
      "metadata": {
        "id": "SkoQh0sxkrD6"
      },
      "id": "SkoQh0sxkrD6"
    },
    {
      "cell_type": "markdown",
      "source": [
        "## 1. Select a GNN model"
      ],
      "metadata": {
        "id": "5JOZ0-0ClD-7"
      },
      "id": "5JOZ0-0ClD-7"
    },
    {
      "cell_type": "code",
      "source": [
        "graph_model = widgets.Dropdown(\n",
        "    options=GRAPH_MODELS.keys(),\n",
        "    default=list(GRAPH_MODELS.keys())[0],\n",
        "    description='Choose a graph model:',\n",
        "    style={'description_width': 'initial'}\n",
        ")\n",
        "display(graph_model)"
      ],
      "metadata": {
        "id": "kvgBqcmkk45b",
        "outputId": "298c8e98-d849-4026-9230-e61924054fe9",
        "colab": {
          "base_uri": "https://localhost:8080/",
          "height": 49,
          "referenced_widgets": [
            "1888ecf19727419ab7a6175812ef777a",
            "ae967f5a819542279832dd7b4d6bbbb0",
            "54b91f01e096499695d3dd7279e2bdaa"
          ]
        }
      },
      "id": "kvgBqcmkk45b",
      "execution_count": 5,
      "outputs": [
        {
          "output_type": "display_data",
          "data": {
            "text/plain": [
              "Dropdown(description='Choose a graph model:', options=('ACM', 'BernNet', 'FAGCN', 'FSGCN', 'GBKGNN', 'APPNP', …"
            ],
            "application/vnd.jupyter.widget-view+json": {
              "version_major": 2,
              "version_minor": 0,
              "model_id": "1888ecf19727419ab7a6175812ef777a"
            }
          },
          "metadata": {}
        }
      ]
    },
    {
      "cell_type": "markdown",
      "source": [
        "## 2. Select a Dataset"
      ],
      "metadata": {
        "id": "hMM-zr2DlJPC"
      },
      "id": "hMM-zr2DlJPC"
    },
    {
      "cell_type": "markdown",
      "source": [
        "### 2.1. First select a dataset class"
      ],
      "metadata": {
        "id": "5kyuU6_pz5V8"
      },
      "id": "5kyuU6_pz5V8"
    },
    {
      "cell_type": "code",
      "source": [
        "dataset_classes = GRAPH_MODELS[graph_model.value]\n",
        "dataset_class = widgets.Dropdown(\n",
        "    options=dataset_classes,\n",
        "    default=dataset_classes[0],\n",
        "    description='Choose a dataset class:',\n",
        "    style={'description_width': 'initial'}\n",
        ")\n",
        "display(dataset_class)"
      ],
      "metadata": {
        "id": "mrR2dmAblCUy",
        "outputId": "46ed14ba-d782-46d9-cfa4-6b3d639f5be9",
        "colab": {
          "base_uri": "https://localhost:8080/",
          "height": 49,
          "referenced_widgets": [
            "cf8b59b545c64df88d4eeda939c058a9",
            "d75b1d9f45014a81bf2f6e953716c44e",
            "7c8e1cec01d74dcc96d1b4d6269d4215"
          ]
        }
      },
      "id": "mrR2dmAblCUy",
      "execution_count": 6,
      "outputs": [
        {
          "output_type": "display_data",
          "data": {
            "text/plain": [
              "Dropdown(description='Choose a dataset class:', options=(('Critical Look', 'critical'), ('OpenGSL', 'opengsl')…"
            ],
            "application/vnd.jupyter.widget-view+json": {
              "version_major": 2,
              "version_minor": 0,
              "model_id": "cf8b59b545c64df88d4eeda939c058a9"
            }
          },
          "metadata": {}
        }
      ]
    },
    {
      "cell_type": "markdown",
      "source": [
        "### 2.2 Then select a dataset"
      ],
      "metadata": {
        "id": "AH-LHjUC0AtZ"
      },
      "id": "AH-LHjUC0AtZ"
    },
    {
      "cell_type": "code",
      "source": [
        "datasets = DATASETS[dataset_class.value]\n",
        "dataset = widgets.Dropdown(\n",
        "    options=datasets,\n",
        "    default=datasets[0],\n",
        "    description='Choose a dataset:',\n",
        "    style={'description_width': 'initial'}\n",
        ")\n",
        "display(dataset)"
      ],
      "metadata": {
        "id": "YfK1DMPl0ADD",
        "outputId": "72472ce4-9f59-4b3f-8362-4aae4ce0b706",
        "colab": {
          "base_uri": "https://localhost:8080/",
          "height": 49,
          "referenced_widgets": [
            "33f6836aa2d5436f916fc88ebd405cf7",
            "77d9992ad26a46f08ffa71a8b674f055",
            "57c7b1a486984407adf6ada53bc0a6d0"
          ]
        }
      },
      "id": "YfK1DMPl0ADD",
      "execution_count": 7,
      "outputs": [
        {
          "output_type": "display_data",
          "data": {
            "text/plain": [
              "Dropdown(description='Choose a dataset:', options=(('Actor', 'actor'), ('Amazon-Ratings', 'amazon-ratings'), (…"
            ],
            "application/vnd.jupyter.widget-view+json": {
              "version_major": 2,
              "version_minor": 0,
              "model_id": "33f6836aa2d5436f916fc88ebd405cf7"
            }
          },
          "metadata": {}
        }
      ]
    },
    {
      "cell_type": "markdown",
      "source": [
        "## 3. Train It!\n"
      ],
      "metadata": {
        "id": "X82VHKZXlNoc"
      },
      "id": "X82VHKZXlNoc"
    },
    {
      "cell_type": "code",
      "source": [
        "train_graph_model(graph_model.value, dataset_class.value, dataset.value, IS_GPU_AVAILABLE)"
      ],
      "metadata": {
        "collapsed": true,
        "id": "35_3aCToDkBJ",
        "outputId": "dceb46ba-1d33-434d-de3a-22b7c8d1be75",
        "colab": {
          "base_uri": "https://localhost:8080/"
        }
      },
      "id": "35_3aCToDkBJ",
      "execution_count": 8,
      "outputs": [
        {
          "output_type": "stream",
          "name": "stdout",
          "text": [
            "Preparing dataset...\n"
          ]
        },
        {
          "output_type": "stream",
          "name": "stderr",
          "text": [
            "Downloading...\n",
            "From (original): https://drive.google.com/uc?id=1_pysG3_l8w5F3GXvq6qTg-Ja2astBhxm\n",
            "From (redirected): https://drive.google.com/uc?id=1_pysG3_l8w5F3GXvq6qTg-Ja2astBhxm&confirm=t&uuid=c79d2687-7798-4bb7-8129-874e86f675e1\n",
            "To: /content/Heterophilic_Benchmarks/critical_look_utils/data/critical_data.zip\n",
            "100%|██████████| 99.3M/99.3M [00:01<00:00, 77.1MB/s]\n"
          ]
        },
        {
          "output_type": "stream",
          "name": "stdout",
          "text": [
            "Start training ACM on dataset: actor\n"
          ]
        },
        {
          "output_type": "stream",
          "name": "stderr",
          "text": [
            "/content/Heterophilic_Benchmarks/GloGNN_repo/train_criticaldata_acm.py:46: UserWarning: torch.sparse.SparseTensor(indices, values, shape, *, device=) is deprecated.  Please use torch.sparse_coo_tensor(indices, values, shape, dtype=, device=). (Triggered internally at ../torch/csrc/utils/tensor_new.cpp:618.)\n",
            "  return torch.sparse.DoubleTensor(indices, values, shape)\n"
          ]
        },
        {
          "output_type": "stream",
          "name": "stdout",
          "text": [
            "Train loss= 1.0516 Val metric= 0.3614\n",
            "Train loss= 0.9525 Val metric= 0.3676\n",
            "Train loss= 0.8847 Val metric= 0.3549\n",
            "Train loss= 0.8764 Val metric= 0.3581\n",
            "Train loss= 0.8482 Val metric= 0.3553\n",
            "Train loss= 0.8320 Val metric= 0.3631\n",
            "Train loss= 0.8460 Val metric= 0.3672\n",
            "Train loss= 0.8203 Val metric= 0.3561\n",
            "Train loss= 0.8050 Val metric= 0.3503\n",
            "Train loss= 0.7803 Val metric= 0.3475\n",
            "Test set results: loss= 1.6512 metric= 0.3474\n",
            "Train loss= 1.0611 Val metric= 0.3487\n",
            "Train loss= 0.9251 Val metric= 0.3557\n",
            "Train loss= 0.9060 Val metric= 0.3524\n",
            "Train loss= 0.8872 Val metric= 0.3512\n",
            "Train loss= 0.8557 Val metric= 0.3532\n",
            "Train loss= 0.8200 Val metric= 0.3466\n",
            "Train loss= 0.8128 Val metric= 0.3376\n",
            "Train loss= 0.8274 Val metric= 0.3380\n",
            "Train loss= 0.7949 Val metric= 0.3421\n",
            "Train loss= 0.8131 Val metric= 0.3425\n",
            "Test set results: loss= 1.7937 metric= 0.3428\n",
            "Train loss= 1.0539 Val metric= 0.3565\n",
            "Train loss= 0.9570 Val metric= 0.3487\n",
            "Train loss= 0.8956 Val metric= 0.3396\n",
            "Train loss= 0.8677 Val metric= 0.3450\n",
            "Train loss= 0.8454 Val metric= 0.3396\n",
            "Train loss= 0.8452 Val metric= 0.3347\n",
            "Train loss= 0.8429 Val metric= 0.3372\n",
            "Train loss= 0.8099 Val metric= 0.3372\n",
            "Train loss= 0.8082 Val metric= 0.3396\n",
            "Train loss= 0.7980 Val metric= 0.3298\n",
            "Test set results: loss= 1.4268 metric= 0.3520\n",
            "Train loss= 1.0315 Val metric= 0.3581\n",
            "Train loss= 0.9564 Val metric= 0.3528\n",
            "Train loss= 0.9267 Val metric= 0.3507\n",
            "Train loss= 0.8862 Val metric= 0.3442\n",
            "Train loss= 0.8551 Val metric= 0.3458\n",
            "Train loss= 0.8390 Val metric= 0.3520\n",
            "Train loss= 0.8540 Val metric= 0.3495\n",
            "Train loss= 0.8330 Val metric= 0.3376\n",
            "Train loss= 0.8329 Val metric= 0.3413\n",
            "Train loss= 0.8230 Val metric= 0.3429\n",
            "Test set results: loss= 1.4501 metric= 0.3513\n",
            "Train loss= 1.0453 Val metric= 0.3450\n",
            "Train loss= 0.9584 Val metric= 0.3438\n",
            "Train loss= 0.8691 Val metric= 0.3581\n",
            "Train loss= 0.8668 Val metric= 0.3503\n",
            "Train loss= 0.8214 Val metric= 0.3331\n",
            "Train loss= 0.8276 Val metric= 0.3343\n",
            "Train loss= 0.8123 Val metric= 0.3491\n",
            "Train loss= 0.8065 Val metric= 0.3491\n",
            "Train loss= 0.7981 Val metric= 0.3417\n",
            "Train loss= 0.7951 Val metric= 0.3458\n",
            "Test set results: loss= 1.5842 metric= 0.3270\n",
            "Train loss= 1.0732 Val metric= 0.3507\n",
            "Train loss= 0.9792 Val metric= 0.3503\n",
            "Train loss= 0.9452 Val metric= 0.3495\n",
            "Train loss= 0.8794 Val metric= 0.3380\n",
            "Train loss= 0.8665 Val metric= 0.3413\n",
            "Train loss= 0.8500 Val metric= 0.3409\n",
            "Train loss= 0.8300 Val metric= 0.3359\n",
            "Train loss= 0.8320 Val metric= 0.3298\n",
            "Train loss= 0.8174 Val metric= 0.3355\n",
            "Train loss= 0.7972 Val metric= 0.3380\n",
            "Test set results: loss= 1.4275 metric= 0.3434\n",
            "Train loss= 1.0700 Val metric= 0.3495\n",
            "Train loss= 0.9572 Val metric= 0.3536\n",
            "Train loss= 0.8928 Val metric= 0.3623\n",
            "Train loss= 0.8576 Val metric= 0.3614\n",
            "Train loss= 0.8129 Val metric= 0.3577\n",
            "Train loss= 0.8212 Val metric= 0.3475\n",
            "Train loss= 0.7834 Val metric= 0.3664\n",
            "Train loss= 0.8038 Val metric= 0.3606\n",
            "Train loss= 0.8061 Val metric= 0.3569\n",
            "Train loss= 0.7878 Val metric= 0.3614\n",
            "Test set results: loss= 1.7902 metric= 0.3362\n",
            "Train loss= 1.0570 Val metric= 0.3446\n",
            "Train loss= 0.9714 Val metric= 0.3429\n",
            "Train loss= 0.9372 Val metric= 0.3442\n",
            "Train loss= 0.8947 Val metric= 0.3446\n",
            "Train loss= 0.8861 Val metric= 0.3487\n",
            "Train loss= 0.8864 Val metric= 0.3503\n",
            "Train loss= 0.8722 Val metric= 0.3425\n",
            "Train loss= 0.8419 Val metric= 0.3512\n",
            "Train loss= 0.8741 Val metric= 0.3512\n",
            "Train loss= 0.8364 Val metric= 0.3491\n",
            "Test set results: loss= 1.7217 metric= 0.3664\n",
            "Train loss= 1.0456 Val metric= 0.3380\n",
            "Train loss= 0.9392 Val metric= 0.3532\n",
            "Train loss= 0.8833 Val metric= 0.3491\n",
            "Train loss= 0.8768 Val metric= 0.3462\n",
            "Train loss= 0.8630 Val metric= 0.3491\n",
            "Train loss= 0.8188 Val metric= 0.3425\n",
            "Train loss= 0.8323 Val metric= 0.3516\n",
            "Train loss= 0.8179 Val metric= 0.3462\n",
            "Train loss= 0.8438 Val metric= 0.3442\n",
            "Train loss= 0.7890 Val metric= 0.3483\n",
            "Test set results: loss= 1.4582 metric= 0.3421\n",
            "Train loss= 1.0750 Val metric= 0.3466\n",
            "Train loss= 0.9433 Val metric= 0.3335\n",
            "Train loss= 0.9107 Val metric= 0.3503\n",
            "Train loss= 0.8706 Val metric= 0.3380\n",
            "Train loss= 0.8718 Val metric= 0.3438\n",
            "Train loss= 0.8679 Val metric= 0.3355\n",
            "Train loss= 0.8457 Val metric= 0.3392\n",
            "Train loss= 0.8375 Val metric= 0.3331\n",
            "Train loss= 0.8068 Val metric= 0.3491\n",
            "Train loss= 0.8333 Val metric= 0.3392\n",
            "Test set results: loss= 1.4237 metric= 0.3612\n",
            "Saving results to ./mlpnorm_critical.csv\n"
          ]
        }
      ]
    }
  ],
  "metadata": {
    "kernelspec": {
      "display_name": "Python 3",
      "name": "python3"
    },
    "language_info": {
      "codemirror_mode": {
        "name": "ipython",
        "version": 3
      },
      "file_extension": ".py",
      "mimetype": "text/x-python",
      "name": "python",
      "nbconvert_exporter": "python",
      "pygments_lexer": "ipython3",
      "version": "3.8.20"
    },
    "colab": {
      "provenance": [],
      "machine_shape": "hm",
      "gpuType": "T4",
      "include_colab_link": true
    },
    "widgets": {
      "application/vnd.jupyter.widget-state+json": {
        "1888ecf19727419ab7a6175812ef777a": {
          "model_module": "@jupyter-widgets/controls",
          "model_name": "DropdownModel",
          "model_module_version": "1.5.0",
          "state": {
            "_dom_classes": [],
            "_model_module": "@jupyter-widgets/controls",
            "_model_module_version": "1.5.0",
            "_model_name": "DropdownModel",
            "_options_labels": [
              "ACM",
              "BernNet",
              "FAGCN",
              "FSGCN",
              "GBKGNN",
              "APPNP",
              "H2GCN",
              "LinkX"
            ],
            "_view_count": null,
            "_view_module": "@jupyter-widgets/controls",
            "_view_module_version": "1.5.0",
            "_view_name": "DropdownView",
            "description": "Choose a graph model:",
            "description_tooltip": null,
            "disabled": false,
            "index": 0,
            "layout": "IPY_MODEL_ae967f5a819542279832dd7b4d6bbbb0",
            "style": "IPY_MODEL_54b91f01e096499695d3dd7279e2bdaa"
          }
        },
        "ae967f5a819542279832dd7b4d6bbbb0": {
          "model_module": "@jupyter-widgets/base",
          "model_name": "LayoutModel",
          "model_module_version": "1.2.0",
          "state": {
            "_model_module": "@jupyter-widgets/base",
            "_model_module_version": "1.2.0",
            "_model_name": "LayoutModel",
            "_view_count": null,
            "_view_module": "@jupyter-widgets/base",
            "_view_module_version": "1.2.0",
            "_view_name": "LayoutView",
            "align_content": null,
            "align_items": null,
            "align_self": null,
            "border": null,
            "bottom": null,
            "display": null,
            "flex": null,
            "flex_flow": null,
            "grid_area": null,
            "grid_auto_columns": null,
            "grid_auto_flow": null,
            "grid_auto_rows": null,
            "grid_column": null,
            "grid_gap": null,
            "grid_row": null,
            "grid_template_areas": null,
            "grid_template_columns": null,
            "grid_template_rows": null,
            "height": null,
            "justify_content": null,
            "justify_items": null,
            "left": null,
            "margin": null,
            "max_height": null,
            "max_width": null,
            "min_height": null,
            "min_width": null,
            "object_fit": null,
            "object_position": null,
            "order": null,
            "overflow": null,
            "overflow_x": null,
            "overflow_y": null,
            "padding": null,
            "right": null,
            "top": null,
            "visibility": null,
            "width": null
          }
        },
        "54b91f01e096499695d3dd7279e2bdaa": {
          "model_module": "@jupyter-widgets/controls",
          "model_name": "DescriptionStyleModel",
          "model_module_version": "1.5.0",
          "state": {
            "_model_module": "@jupyter-widgets/controls",
            "_model_module_version": "1.5.0",
            "_model_name": "DescriptionStyleModel",
            "_view_count": null,
            "_view_module": "@jupyter-widgets/base",
            "_view_module_version": "1.2.0",
            "_view_name": "StyleView",
            "description_width": "initial"
          }
        },
        "cf8b59b545c64df88d4eeda939c058a9": {
          "model_module": "@jupyter-widgets/controls",
          "model_name": "DropdownModel",
          "model_module_version": "1.5.0",
          "state": {
            "_dom_classes": [],
            "_model_module": "@jupyter-widgets/controls",
            "_model_module_version": "1.5.0",
            "_model_name": "DropdownModel",
            "_options_labels": [
              "Critical Look",
              "OpenGSL",
              "PathNet"
            ],
            "_view_count": null,
            "_view_module": "@jupyter-widgets/controls",
            "_view_module_version": "1.5.0",
            "_view_name": "DropdownView",
            "description": "Choose a dataset class:",
            "description_tooltip": null,
            "disabled": false,
            "index": 0,
            "layout": "IPY_MODEL_d75b1d9f45014a81bf2f6e953716c44e",
            "style": "IPY_MODEL_7c8e1cec01d74dcc96d1b4d6269d4215"
          }
        },
        "d75b1d9f45014a81bf2f6e953716c44e": {
          "model_module": "@jupyter-widgets/base",
          "model_name": "LayoutModel",
          "model_module_version": "1.2.0",
          "state": {
            "_model_module": "@jupyter-widgets/base",
            "_model_module_version": "1.2.0",
            "_model_name": "LayoutModel",
            "_view_count": null,
            "_view_module": "@jupyter-widgets/base",
            "_view_module_version": "1.2.0",
            "_view_name": "LayoutView",
            "align_content": null,
            "align_items": null,
            "align_self": null,
            "border": null,
            "bottom": null,
            "display": null,
            "flex": null,
            "flex_flow": null,
            "grid_area": null,
            "grid_auto_columns": null,
            "grid_auto_flow": null,
            "grid_auto_rows": null,
            "grid_column": null,
            "grid_gap": null,
            "grid_row": null,
            "grid_template_areas": null,
            "grid_template_columns": null,
            "grid_template_rows": null,
            "height": null,
            "justify_content": null,
            "justify_items": null,
            "left": null,
            "margin": null,
            "max_height": null,
            "max_width": null,
            "min_height": null,
            "min_width": null,
            "object_fit": null,
            "object_position": null,
            "order": null,
            "overflow": null,
            "overflow_x": null,
            "overflow_y": null,
            "padding": null,
            "right": null,
            "top": null,
            "visibility": null,
            "width": null
          }
        },
        "7c8e1cec01d74dcc96d1b4d6269d4215": {
          "model_module": "@jupyter-widgets/controls",
          "model_name": "DescriptionStyleModel",
          "model_module_version": "1.5.0",
          "state": {
            "_model_module": "@jupyter-widgets/controls",
            "_model_module_version": "1.5.0",
            "_model_name": "DescriptionStyleModel",
            "_view_count": null,
            "_view_module": "@jupyter-widgets/base",
            "_view_module_version": "1.2.0",
            "_view_name": "StyleView",
            "description_width": "initial"
          }
        },
        "33f6836aa2d5436f916fc88ebd405cf7": {
          "model_module": "@jupyter-widgets/controls",
          "model_name": "DropdownModel",
          "model_module_version": "1.5.0",
          "state": {
            "_dom_classes": [],
            "_model_module": "@jupyter-widgets/controls",
            "_model_module_version": "1.5.0",
            "_model_name": "DropdownModel",
            "_options_labels": [
              "Actor",
              "Amazon-Ratings",
              "Chameleon",
              "Chameleon-Directed",
              "Chameleon-Filtered",
              "Chameleon-Filtered-Directed",
              "Cornell",
              "Minesweeper",
              "Roman-Empire",
              "Questions",
              "Squirrel",
              "Squirrel-Directed",
              "Squirrel-Filtered",
              "Squirrel-Filtered-Directed",
              "Texas",
              "Texas-4-Classes",
              "Tolokers",
              "Wisconsin"
            ],
            "_view_count": null,
            "_view_module": "@jupyter-widgets/controls",
            "_view_module_version": "1.5.0",
            "_view_name": "DropdownView",
            "description": "Choose a dataset:",
            "description_tooltip": null,
            "disabled": false,
            "index": 0,
            "layout": "IPY_MODEL_77d9992ad26a46f08ffa71a8b674f055",
            "style": "IPY_MODEL_57c7b1a486984407adf6ada53bc0a6d0"
          }
        },
        "77d9992ad26a46f08ffa71a8b674f055": {
          "model_module": "@jupyter-widgets/base",
          "model_name": "LayoutModel",
          "model_module_version": "1.2.0",
          "state": {
            "_model_module": "@jupyter-widgets/base",
            "_model_module_version": "1.2.0",
            "_model_name": "LayoutModel",
            "_view_count": null,
            "_view_module": "@jupyter-widgets/base",
            "_view_module_version": "1.2.0",
            "_view_name": "LayoutView",
            "align_content": null,
            "align_items": null,
            "align_self": null,
            "border": null,
            "bottom": null,
            "display": null,
            "flex": null,
            "flex_flow": null,
            "grid_area": null,
            "grid_auto_columns": null,
            "grid_auto_flow": null,
            "grid_auto_rows": null,
            "grid_column": null,
            "grid_gap": null,
            "grid_row": null,
            "grid_template_areas": null,
            "grid_template_columns": null,
            "grid_template_rows": null,
            "height": null,
            "justify_content": null,
            "justify_items": null,
            "left": null,
            "margin": null,
            "max_height": null,
            "max_width": null,
            "min_height": null,
            "min_width": null,
            "object_fit": null,
            "object_position": null,
            "order": null,
            "overflow": null,
            "overflow_x": null,
            "overflow_y": null,
            "padding": null,
            "right": null,
            "top": null,
            "visibility": null,
            "width": null
          }
        },
        "57c7b1a486984407adf6ada53bc0a6d0": {
          "model_module": "@jupyter-widgets/controls",
          "model_name": "DescriptionStyleModel",
          "model_module_version": "1.5.0",
          "state": {
            "_model_module": "@jupyter-widgets/controls",
            "_model_module_version": "1.5.0",
            "_model_name": "DescriptionStyleModel",
            "_view_count": null,
            "_view_module": "@jupyter-widgets/base",
            "_view_module_version": "1.2.0",
            "_view_name": "StyleView",
            "description_width": "initial"
          }
        }
      }
    },
    "accelerator": "GPU"
  },
  "nbformat": 4,
  "nbformat_minor": 5
}